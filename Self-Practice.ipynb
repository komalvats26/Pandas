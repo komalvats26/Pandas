{
 "cells": [
  {
   "cell_type": "code",
   "execution_count": null,
   "metadata": {},
   "outputs": [],
   "source": [
    "print(\"twinkle twinkle little star\", \"\\n\", \"\\t\", \"how i wonder what you are\", \"\\n\", \"\\t\", \"\\t\",\n",
    "     \"Up above the world so high\", \"\\n\" ,\"\\t\", \"\\t\",\n",
    "      \"Like a diamond in the sky.\", \"\\n\" ,\n",
    "\"Twinkle, twinkle, little star\", \"\\n\" , \"\\t\",\n",
    "\"How I wonder what you are\")"
   ]
  },
  {
   "cell_type": "code",
   "execution_count": null,
   "metadata": {},
   "outputs": [],
   "source": [
    "#python version and version info\n",
    "#sys module gives access to variable and functions that intract with interpretor\n",
    "\n",
    "import sys\n",
    "print(\"Python version\")\n",
    "print(sys.version)\n",
    "print(\"version_Info\")\n",
    "print(sys.version_info)"
   ]
  },
  {
   "cell_type": "code",
   "execution_count": 1,
   "metadata": {},
   "outputs": [
    {
     "name": "stdout",
     "output_type": "stream",
     "text": [
      "today's date and time are:  \n",
      "\n",
      "2020-06-29 , 15:12:59\n"
     ]
    }
   ],
   "source": [
    "#current date and time\n",
    "import datetime\n",
    "today = datetime.datetime.now()\n",
    "print(\"today's date and time are: \", \"\\n\")\n",
    "print(today.strftime(\"%Y-%m-%d , %H:%M:%S\"))"
   ]
  },
  {
   "cell_type": "code",
   "execution_count": null,
   "metadata": {},
   "outputs": [],
   "source": [
    "r = float(input (\"Input the radius of the circle : \"))\n",
    "area = str(3.14 * r**2)\n",
    "print (\"The area of the circle with radius \" , str(r) , \" is: \" , str(area))\n"
   ]
  },
  {
   "cell_type": "code",
   "execution_count": null,
   "metadata": {},
   "outputs": [],
   "source": [
    "nl = []\n",
    "for i in range(1500,2071):\n",
    "    if(i%7 == 0) and (i%5 == 0):\n",
    "        nl.append(i)\n",
    "print(nl)"
   ]
  },
  {
   "cell_type": "code",
   "execution_count": null,
   "metadata": {},
   "outputs": [],
   "source": [
    "celcius = float(input(\"Enter temp in celcius\"))\n",
    "faren  = float(input(\"Enter temp in farenhiet\"))\n",
    "temp = \n",
    "if()"
   ]
  },
  {
   "cell_type": "code",
   "execution_count": 1,
   "metadata": {},
   "outputs": [
    {
     "name": "stdout",
     "output_type": "stream",
     "text": [
      "* \n",
      "* * \n",
      "* * * \n",
      "* * * * \n",
      "* * * * * \n",
      "* * * * \n",
      "* * * \n",
      "* * \n",
      "* \n"
     ]
    }
   ],
   "source": [
    "for i in range(5):\n",
    "    for j in range(i+1):\n",
    "        print(\"*\" , end =\" \")\n",
    "    print('')  \n",
    "for i in range(4):\n",
    "    for j in range(4-i):\n",
    "        print(\"*\", end = \" \")\n",
    "    print('')    "
   ]
  },
  {
   "cell_type": "code",
   "execution_count": null,
   "metadata": {},
   "outputs": [],
   "source": [
    "word = input('Enter a word to reverse ->')\n",
    "\n",
    "for value in range(len(word) -1,-1,-1):\n",
    "    print(word[value], end = \" \")"
   ]
  },
  {
   "cell_type": "code",
   "execution_count": null,
   "metadata": {},
   "outputs": [],
   "source": [
    "#???????????????????????????????????????????????????????to take 2 or 3 digit numbers also\n",
    "\n",
    "count_even = 0\n",
    "count_odd =0\n",
    "numbers = input(\"Enter the String of numbers:\")\n",
    "for i in range(len(numbers)):\n",
    "    if i % 2 == 0:                                       #x % y (x wrt to y)\n",
    "        count_even += 1\n",
    "    else:\n",
    "        count_odd += 1\n",
    "        \n",
    "print(\"Number of even numbers are ->\", count_even)\n",
    "print(\"Number of odd numbers are ->\", count_odd)\n",
    "      \n",
    "    "
   ]
  },
  {
   "cell_type": "code",
   "execution_count": null,
   "metadata": {},
   "outputs": [],
   "source": [
    "datalist = [1452, 11.23, 1+2j, True, 'w3resource', (0, -1), [5, 12], {\"class\":'V', \"section\":'A'}]\n",
    "for values in datalist:\n",
    "    print(\" The type of\", values, \"is\", type(values))"
   ]
  },
  {
   "cell_type": "code",
   "execution_count": null,
   "metadata": {},
   "outputs": [],
   "source": [
    "for i in range(10):\n",
    "    if (i == 3 or i ==6):\n",
    "        pass                  #continue statement returns the control again at the top of the loop\n",
    "    print(i, end = \" \")       "
   ]
  },
  {
   "cell_type": "code",
   "execution_count": 1,
   "metadata": {},
   "outputs": [
    {
     "name": "stdout",
     "output_type": "stream",
     "text": [
      "1\n",
      "1\n",
      "2\n",
      "3\n",
      "5\n",
      "8\n",
      "13\n"
     ]
    }
   ],
   "source": [
    "#palindrome\n",
    "x,y = 0,1\n",
    "\n",
    "while y<20:\n",
    "    print(y)\n",
    "    x,y = y,x+y"
   ]
  },
  {
   "cell_type": "code",
   "execution_count": null,
   "metadata": {},
   "outputs": [],
   "source": [
    "for i in range(10):\n",
    "    if(i%3 == 0):\n",
    "        print(\"FIZZZZZ\")\n",
    "    elif(i%5 ==0 )  :\n",
    "        print(\"BUZZ\")\n",
    "    elif(i%3 == 0) or (i%5 == 0):\n",
    "        print(\"FIZZZBUZZZZ\")\n",
    "    else:\n",
    "        print(i)"
   ]
  },
  {
   "cell_type": "code",
   "execution_count": null,
   "metadata": {},
   "outputs": [],
   "source": [
    "#factorial of number\n",
    "\n",
    "num = int(input('enter a string :'))\n",
    "factorial = 1\n",
    "if num<0:\n",
    "    print(\"Factorial of negative numbers not possible\")\n",
    "elif num == 0:    \n",
    "    print(\"Factorial of 0 is 1\")\n",
    "elif num>0:\n",
    "    for i in range(1, num+1):\n",
    "        factorial = factorial * i\n",
    "print(\"The factorial of \", num, \"is\", factorial)        "
   ]
  },
  {
   "cell_type": "code",
   "execution_count": 2,
   "metadata": {},
   "outputs": [
    {
     "name": "stdout",
     "output_type": "stream",
     "text": [
      "Input the String->kmhtdw4\n",
      "Letters in  kmhtdw4 is 6\n",
      "Digits in kmhtdw4 is 1\n"
     ]
    }
   ],
   "source": [
    "string = input(\"Input the String->\")\n",
    "digit = letter = 0\n",
    "for i in string:\n",
    "    if i.isdigit():\n",
    "         digit = digit+1\n",
    "    elif i.isalpha():\n",
    "        letter = letter+1\n",
    "print(\"Letters in \", string, \"is\", letter)\n",
    "print(\"Digits in\", string, \"is\", digit)\n",
    "        \n",
    "       "
   ]
  },
  {
   "cell_type": "code",
   "execution_count": null,
   "metadata": {},
   "outputs": [],
   "source": [
    "# TELSU\n",
    "# FUNCTION IS A TASK WHICH WORKS WHEN WE CAL IT\n",
    "\n",
    "print(\"komal's laptop\")\n",
    "print('komal\\'s \"laptop\"') # backslash\n",
    "10 * 'komal'"
   ]
  },
  {
   "cell_type": "code",
   "execution_count": null,
   "metadata": {},
   "outputs": [],
   "source": [
    "# raw string : prints the string as it is\n",
    "print(r'C\\:DOC\\NOW')"
   ]
  },
  {
   "cell_type": "markdown",
   "metadata": {},
   "source": [
    "# variables : container to store values\n",
    "\n"
   ]
  },
  {
   "cell_type": "code",
   "execution_count": null,
   "metadata": {},
   "outputs": [],
   "source": [
    "# underscore gives output of previous varaible\n",
    "x,y = 2,3\n",
    "x+y\n",
    "_ +y"
   ]
  },
  {
   "cell_type": "code",
   "execution_count": 5,
   "metadata": {},
   "outputs": [
    {
     "data": {
      "text/plain": [
       "('komal', 'rocks')"
      ]
     },
     "execution_count": 5,
     "metadata": {},
     "output_type": "execute_result"
    }
   ],
   "source": [
    "name = 'komal'\n",
    "name + 'rocks'; # gives o/p in single string\n",
    "name , 'rocks' #gives o/p in list\n",
    "# strings are immutable i.e once assingned cant be modified"
   ]
  },
  {
   "cell_type": "markdown",
   "metadata": {},
   "source": [
    "# list"
   ]
  },
  {
   "cell_type": "code",
   "execution_count": null,
   "metadata": {},
   "outputs": [],
   "source": [
    "name = [10,223,43,56,'komal']\n",
    "# name[-5:-1]\n",
    "# name.insert(2,'ria')\n",
    "# name\n",
    "# name.remove(10) ; name  # removes by name\n",
    "# name.pop(1); name   #REMOVES BY INDEX\n",
    "name.pop();name\n",
    "# name.extend(['kia', 43, 45]) ; name\n",
    "# name.sort()"
   ]
  },
  {
   "cell_type": "markdown",
   "metadata": {},
   "source": [
    "# tuples"
   ]
  },
  {
   "cell_type": "code",
   "execution_count": null,
   "metadata": {},
   "outputs": [],
   "source": [
    "# immutable\n",
    "tup = (21,2,3,4,5,56)\n",
    "tup[1]\n",
    "#tup[1] = 2 #XXXXXXXXXXXXXX\n",
    "tup.count\n",
    "\n"
   ]
  },
  {
   "cell_type": "code",
   "execution_count": 6,
   "metadata": {},
   "outputs": [
    {
     "data": {
      "text/plain": [
       "{2, 3, 4, 5, 6, 21}"
      ]
     },
     "execution_count": 6,
     "metadata": {},
     "output_type": "execute_result"
    }
   ],
   "source": [
    "set1 = {21,2,3,4,5,6,5,5,6};set1\n",
    "#sets work upon the hash concept hence increasing the speed\n",
    "#also removes the repeated values; unique values fetch\n",
    "#faster"
   ]
  },
  {
   "cell_type": "code",
   "execution_count": null,
   "metadata": {},
   "outputs": [],
   "source": [
    "s = {7,6,5,6,4,5,7};s\n",
    "#s[1]    indexing not supported coz no sequence defined already\n",
    "s.update() "
   ]
  },
  {
   "cell_type": "markdown",
   "metadata": {},
   "source": [
    "# Dictionary"
   ]
  },
  {
   "cell_type": "code",
   "execution_count": 8,
   "metadata": {},
   "outputs": [
    {
     "data": {
      "text/plain": [
       "{1: 'komal', 2: 'kiran', 4: 'karan'}"
      ]
     },
     "execution_count": 8,
     "metadata": {},
     "output_type": "execute_result"
    }
   ],
   "source": [
    "# key value pair\n",
    "# key should be unique and immuatable\n",
    "data = {1:'komal', 2:'kiran', 4:'karan'};data"
   ]
  },
  {
   "cell_type": "code",
   "execution_count": 9,
   "metadata": {},
   "outputs": [
    {
     "data": {
      "text/plain": [
       "'karan'"
      ]
     },
     "execution_count": 9,
     "metadata": {},
     "output_type": "execute_result"
    }
   ],
   "source": [
    "data[4]"
   ]
  },
  {
   "cell_type": "code",
   "execution_count": 11,
   "metadata": {},
   "outputs": [
    {
     "data": {
      "text/plain": [
       "{1: 'komal', 2: 'kiran', 4: 'karan'}"
      ]
     },
     "execution_count": 11,
     "metadata": {},
     "output_type": "execute_result"
    }
   ],
   "source": [
    "data.get(1)\n",
    "data.get(3)  #no error\n"
   ]
  },
  {
   "cell_type": "code",
   "execution_count": 13,
   "metadata": {},
   "outputs": [],
   "source": [
    "keys = ['komal','kiran','kiroon']\n",
    "\n",
    "values = ['python','java', 'c']"
   ]
  },
  {
   "cell_type": "code",
   "execution_count": 14,
   "metadata": {},
   "outputs": [
    {
     "data": {
      "text/plain": [
       "{'komal': 'python', 'kiran': 'java', 'kiroon': 'c'}"
      ]
     },
     "execution_count": 14,
     "metadata": {},
     "output_type": "execute_result"
    }
   ],
   "source": [
    "# merge these two to form a dictionary\n",
    "data = dict(zip(keys,values))\n",
    "data"
   ]
  },
  {
   "cell_type": "code",
   "execution_count": null,
   "metadata": {},
   "outputs": [],
   "source": [
    "# add another record\n",
    "data['monika'] = 'c++'\n",
    "data"
   ]
  },
  {
   "cell_type": "code",
   "execution_count": null,
   "metadata": {},
   "outputs": [],
   "source": [
    "#delete\n",
    "del data['kiroon'] # XXXXXXXXXXX error\n",
    "data"
   ]
  },
  {
   "cell_type": "code",
   "execution_count": 15,
   "metadata": {},
   "outputs": [
    {
     "data": {
      "text/plain": [
       "'Ecllipse'"
      ]
     },
     "execution_count": 15,
     "metadata": {},
     "output_type": "execute_result"
    }
   ],
   "source": [
    "lang = {'JS':'Atom', 'C':'Emulator', \n",
    "        'Python':{'Pycharm', 'Anaconda', 'Sublime'}, \n",
    "        'Java':{'JSE':'Netbeans', 'JEE':'Ecllipse'}\n",
    "       }\n",
    "lang\n",
    "lang['JS']\n",
    "lang['Python']\n",
    "lang['Java']['JEE']\n"
   ]
  },
  {
   "cell_type": "code",
   "execution_count": 15,
   "metadata": {},
   "outputs": [
    {
     "name": "stdout",
     "output_type": "stream",
     "text": [
      "Enter 1st number:10\n",
      "Enter 2nd number:1\n"
     ]
    },
    {
     "data": {
      "text/plain": [
       "[11]"
      ]
     },
     "execution_count": 15,
     "metadata": {},
     "output_type": "execute_result"
    }
   ],
   "source": [
    "def sum_mul(num1, num2):\n",
    " \n",
    "    return [num1*num2  if(num1*num2) > 1000 else num1+num2]\n",
    "\n",
    "number1 = int(input('Enter 1st number:'))\n",
    "number2 = int(input('Enter 2nd number:'))\n",
    "   \n",
    "sum_mul(number1, number2)\n"
   ]
  },
  {
   "cell_type": "code",
   "execution_count": 4,
   "metadata": {},
   "outputs": [
    {
     "name": "stdout",
     "output_type": "stream",
     "text": [
      "Enter two value: 2 3\n",
      "First number is 2 and second number is 3\n",
      "\n"
     ]
    }
   ],
   "source": [
    "x, y = [int(x) for x in input(\"Enter two value: \").split()] \n",
    "print(\"First number is {} and second number is {}\".format(x, y)) \n",
    "print() "
   ]
  },
  {
   "cell_type": "code",
   "execution_count": 28,
   "metadata": {},
   "outputs": [
    {
     "name": "stdout",
     "output_type": "stream",
     "text": [
      "Current Number 0  Previous Number  0  Sum: 0 \n",
      "Current Number 1  Previous Number  0  Sum: 1 \n",
      "Current Number 2  Previous Number  1  Sum: 3 \n",
      "Current Number 3  Previous Number  2  Sum: 5 \n",
      "Current Number 4  Previous Number  3  Sum: 7 \n",
      "Current Number 5  Previous Number  4  Sum: 9 \n",
      "Current Number 6  Previous Number  5  Sum: 11 \n",
      "Current Number 7  Previous Number  6  Sum: 13 \n",
      "Current Number 8  Previous Number  7  Sum: 15 \n",
      "Current Number 9  Previous Number  8  Sum: 17 \n",
      "Current Number 10  Previous Number  9  Sum: 19 \n"
     ]
    }
   ],
   "source": [
    "def iterat():\n",
    "    prev = 0\n",
    "    for i in range(11):\n",
    "        sum = prev + i\n",
    "        print('Current Number {}  Previous Number  {}  Sum: {} '.format(i,prev,sum))\n",
    "        prev = i\n",
    "iterat()"
   ]
  },
  {
   "cell_type": "code",
   "execution_count": 22,
   "metadata": {},
   "outputs": [
    {
     "name": "stdout",
     "output_type": "stream",
     "text": [
      "index[ 0 ] k\n",
      "index[ 2 ] k\n",
      "index[ 4 ] k\n"
     ]
    }
   ],
   "source": [
    "def stringg(strr):\n",
    "    for i in range(0, len(strr), 2):\n",
    "        print('index[',i,']', (strr[i]) )\n",
    "stringg('kokoko')        "
   ]
  },
  {
   "cell_type": "code",
   "execution_count": 33,
   "metadata": {},
   "outputs": [
    {
     "name": "stdout",
     "output_type": "stream",
     "text": [
      "ANA\n"
     ]
    }
   ],
   "source": [
    "def removeChars(strr, num):\n",
    "    k = strr[num:]\n",
    "    print(k.upper())\n",
    "removeChars('havana', 3)        "
   ]
  },
  {
   "cell_type": "code",
   "execution_count": 44,
   "metadata": {},
   "outputs": [
    {
     "data": {
      "text/plain": [
       "False"
      ]
     },
     "execution_count": 44,
     "metadata": {},
     "output_type": "execute_result"
    }
   ],
   "source": [
    "def first_last(list1):\n",
    "    if list1[0] == list1[-1]:\n",
    "        return True\n",
    "    return False\n",
    "first_last([10,20,30,40,50])        "
   ]
  },
  {
   "cell_type": "code",
   "execution_count": 4,
   "metadata": {},
   "outputs": [
    {
     "name": "stdout",
     "output_type": "stream",
     "text": [
      "10\n",
      "5\n",
      "25\n"
     ]
    }
   ],
   "source": [
    "def mul_5(list1):\n",
    "    for element in list1:\n",
    "        if element % 5 == 0:\n",
    "            print(element)\n",
    "mul_5([10,5,31,25])            "
   ]
  },
  {
   "cell_type": "code",
   "execution_count": 9,
   "metadata": {},
   "outputs": [
    {
     "name": "stdout",
     "output_type": "stream",
     "text": [
      "Emma appears 2 times : \n"
     ]
    }
   ],
   "source": [
    "def count1(stringg):\n",
    "    cnt = stringg.count('Emma')\n",
    "    print('Emma appears {} times : ' .format(cnt))\n",
    "count1('Emma is good Emma')    "
   ]
  },
  {
   "cell_type": "code",
   "execution_count": 30,
   "metadata": {},
   "outputs": [
    {
     "name": "stdout",
     "output_type": "stream",
     "text": [
      "\n",
      "\n",
      "1 \n",
      "\n",
      "2 2 \n",
      "\n",
      "3 3 3 \n",
      "\n",
      "4 4 4 4 \n",
      "\n",
      "5 5 5 5 5 \n",
      "\n",
      "6 6 6 6 6 6 \n",
      "\n",
      "7 7 7 7 7 7 7 \n",
      "\n",
      "8 8 8 8 8 8 8 8 \n",
      "\n",
      "9 9 9 9 9 9 9 9 9 \n",
      "\n"
     ]
    }
   ],
   "source": [
    "# for num in range(10):\n",
    "#     print(num)\n",
    "#     for i in range(num):\n",
    "#         print(num, end = ' ')\n",
    "# #         print(element)\n",
    "# print('\\n')\n",
    " \n",
    "    \n",
    "for num in range(10):\n",
    "    for i in range(num):\n",
    "        print (num, end=\" \") #print number\n",
    "    # new line after each row to display pattern correctly\n",
    "    print(\"\\n\")    "
   ]
  },
  {
   "cell_type": "code",
   "execution_count": null,
   "metadata": {},
   "outputs": [],
   "source": [
    "n=int(input(\"Enter number: \"))\n",
    "rev=0\n",
    "while(n>0):\n",
    "    dig=n%10\n",
    "    rev=rev*10+dig\n",
    "    n=n//10\n",
    "print(\"Reverse of the number:\",rev)"
   ]
  },
  {
   "cell_type": "code",
   "execution_count": null,
   "metadata": {},
   "outputs": [],
   "source": [
    "x  = [1,2,3]\n",
    "k = []\n",
    "for i in reversed(x):\n",
    "    k.append(i)\n",
    "print(k) #reverse for list"
   ]
  },
  {
   "cell_type": "code",
   "execution_count": 43,
   "metadata": {},
   "outputs": [
    {
     "data": {
      "text/plain": [
       "[1, 9, 5, 8, 4]"
      ]
     },
     "execution_count": 43,
     "metadata": {},
     "output_type": "execute_result"
    }
   ],
   "source": [
    "list1 = [1,2,9,4,6,5]\n",
    "list2 = [9,7,8,4,3]\n",
    "def fn(list1,list2):\n",
    "    list3 = []\n",
    "    for i in list1:\n",
    "        if i%2 != 0:\n",
    "            list3.append(i)\n",
    "    for i in list2:\n",
    "        if i%2 == 0:\n",
    "            list3.append(i)\n",
    "    return list3        \n",
    "fn(list1,list2)"
   ]
  },
  {
   "cell_type": "markdown",
   "metadata": {},
   "source": [
    "### I/P AND O/P"
   ]
  },
  {
   "cell_type": "code",
   "execution_count": 4,
   "metadata": {},
   "outputs": [
    {
     "name": "stdout",
     "output_type": "stream",
     "text": [
      "My**Name**Is**James\n"
     ]
    }
   ],
   "source": [
    "print('My', 'Name', 'Is', 'James', sep = '**')"
   ]
  },
  {
   "cell_type": "code",
   "execution_count": 6,
   "metadata": {},
   "outputs": [
    {
     "name": "stdout",
     "output_type": "stream",
     "text": [
      "375.95\n"
     ]
    }
   ],
   "source": [
    "print(round(375.94758748,2))"
   ]
  },
  {
   "cell_type": "code",
   "execution_count": 18,
   "metadata": {},
   "outputs": [
    {
     "name": "stdout",
     "output_type": "stream",
     "text": [
      "enter values:234\n",
      "totalMoney 2 \n",
      " quantity 3 \n",
      " Price 4 \n",
      "\n"
     ]
    }
   ],
   "source": [
    "x,y,z = input('enter values:')\n",
    "print('totalMoney {} \\n quantity {} \\n Price {} \\n' .format(x,y,z))"
   ]
  },
  {
   "cell_type": "code",
   "execution_count": null,
   "metadata": {},
   "outputs": [
    {
     "name": "stdout",
     "output_type": "stream",
     "text": [
      "Enter the list size : 3\n",
      "\n",
      "\n",
      "Enter number at location 0 :\n",
      "1\n",
      "1.0\n",
      "Enter number at location 1 :\n"
     ]
    }
   ],
   "source": [
    "floatNumbers = []\n",
    "n = int(input(\"Enter the list size : \"))\n",
    "\n",
    "print(\"\\n\")\n",
    "for i in range(0, n):\n",
    "    print(\"Enter number at location\", i, \":\")\n",
    "    item = float(input())\n",
    "    print(item)\n",
    "    floatNumbers.append(item)\n",
    "    \n",
    "print(\"User List is \", floatNumbers)"
   ]
  },
  {
   "cell_type": "code",
   "execution_count": 26,
   "metadata": {},
   "outputs": [
    {
     "name": "stdout",
     "output_type": "stream",
     "text": [
      "False\n"
     ]
    }
   ],
   "source": [
    "import os\n",
    "print(os.stat(\"test.txt\").st_size == 0)\n",
    "# file empty or not"
   ]
  },
  {
   "cell_type": "code",
   "execution_count": 23,
   "metadata": {},
   "outputs": [
    {
     "name": "stdout",
     "output_type": "stream",
     "text": [
      "The size of line is : 3\n",
      "enter the element at  0  : \n",
      "1\n",
      "enter the element at  1  : \n",
      "2\n",
      "enter the element at  2  : \n",
      "3\n",
      "list  :  [1.0, 2.0, 3.0]\n"
     ]
    }
   ],
   "source": [
    "floatList = []\n",
    "n = int(input('The size of line is : '))\n",
    "for i in range(n):\n",
    "    print('enter the element at ', i, ' : ')\n",
    "    item = float(input())\n",
    "    floatList.append(item)\n",
    "print('list  : ', floatList)    "
   ]
  },
  {
   "cell_type": "code",
   "execution_count": 4,
   "metadata": {},
   "outputs": [
    {
     "name": "stdout",
     "output_type": "stream",
     "text": [
      "line 4 \n",
      "\n"
     ]
    }
   ],
   "source": [
    "with open('test.txt', 'r') as fp:\n",
    "    line = fp.readlines()\n",
    "    print(line[6])"
   ]
  },
  {
   "cell_type": "code",
   "execution_count": 3,
   "metadata": {},
   "outputs": [
    {
     "name": "stdout",
     "output_type": "stream",
     "text": [
      "1\n",
      "2\n",
      "3\n",
      "4\n",
      "5\n",
      "6\n",
      "7\n",
      "8\n",
      "9\n",
      "10\n"
     ]
    }
   ],
   "source": [
    "i = 1 \n",
    "while i<11:\n",
    "    print(i)\n",
    "    i+=1"
   ]
  },
  {
   "cell_type": "code",
   "execution_count": 12,
   "metadata": {},
   "outputs": [
    {
     "name": "stdout",
     "output_type": "stream",
     "text": [
      "1  \n",
      "1 2  \n",
      "1 2 3  \n",
      "1 2 3 4  \n",
      "1 2 3 4 5  \n"
     ]
    }
   ],
   "source": [
    "for row in range(1,6):\n",
    "    for col in range(1,row+1):\n",
    "        print(col, end = ' ')\n",
    "    print(\" \")    "
   ]
  },
  {
   "cell_type": "code",
   "execution_count": 1,
   "metadata": {},
   "outputs": [
    {
     "name": "stdout",
     "output_type": "stream",
     "text": [
      "2\n",
      "4\n",
      "6\n",
      "8\n",
      "10\n",
      "12\n",
      "14\n",
      "16\n",
      "18\n",
      "20\n"
     ]
    }
   ],
   "source": [
    "# n = int(input())\n",
    "# i = 1\n",
    "# while i<=10:\n",
    "#     print((n*i))\n",
    "#     i +=1\n",
    "for i in range(1,11):\n",
    "    print(2*i)"
   ]
  },
  {
   "cell_type": "code",
   "execution_count": 6,
   "metadata": {},
   "outputs": [
    {
     "data": {
      "text/plain": [
       "[15, 55, 75, 150]"
      ]
     },
     "execution_count": 6,
     "metadata": {},
     "output_type": "execute_result"
    }
   ],
   "source": [
    "def mul_5(list1):\n",
    "    new = []\n",
    "    for i in list1:\n",
    "        if (i>150):\n",
    "             break\n",
    "        if (i%5 == 0):\n",
    "            new.append(i)\n",
    "    return new         \n",
    "mul_5([12, 15, 32, 42, 55, 75, 122, 132, 150, 180, 200])"
   ]
  },
  {
   "cell_type": "code",
   "execution_count": 14,
   "metadata": {},
   "outputs": [
    {
     "name": "stdout",
     "output_type": "stream",
     "text": [
      "1 2 3 4\n"
     ]
    }
   ],
   "source": [
    "n = '1234'\n",
    "for i in n.split(','):\n",
    "    print(i)"
   ]
  },
  {
   "cell_type": "code",
   "execution_count": 19,
   "metadata": {},
   "outputs": [
    {
     "name": "stdout",
     "output_type": "stream",
     "text": [
      "Total digits are:  5\n",
      "4\n"
     ]
    }
   ],
   "source": [
    "num = 75869\n",
    "count = 0\n",
    "while num != 0:\n",
    "    num //= 10\n",
    "#     print(num)\n",
    "    count+= 1\n",
    "print(\"Total digits are: \", count)\n",
    "\n",
    "print(len(str(abs(-1234))))"
   ]
  },
  {
   "cell_type": "code",
   "execution_count": 12,
   "metadata": {},
   "outputs": [
    {
     "name": "stdout",
     "output_type": "stream",
     "text": [
      "5\n",
      "60\n",
      "50\n",
      "40\n",
      "30\n",
      "20\n",
      "10\n"
     ]
    }
   ],
   "source": [
    "list1 = [10, 20, 30, 40, 50, 60]\n",
    "start = len(list1) -1\n",
    "stop = -1\n",
    "step = -1\n",
    "for i in range(start, stop, step):\n",
    "    print(list1[i])    "
   ]
  },
  {
   "cell_type": "code",
   "execution_count": 22,
   "metadata": {},
   "outputs": [
    {
     "name": "stdout",
     "output_type": "stream",
     "text": [
      "-10\n",
      "-9\n",
      "-8\n",
      "-7\n",
      "-6\n",
      "-5\n",
      "-4\n",
      "-3\n",
      "-2\n",
      "-1\n",
      "Done!!!\n"
     ]
    }
   ],
   "source": [
    "for i in  range(-10, 0):\n",
    "    print(i)\n",
    "print('Done!!!')    "
   ]
  },
  {
   "cell_type": "code",
   "execution_count": 4,
   "metadata": {},
   "outputs": [
    {
     "name": "stdout",
     "output_type": "stream",
     "text": [
      "55\n"
     ]
    }
   ],
   "source": [
    "x = 0\n",
    "temp = 0\n",
    "while x<=10:\n",
    "    temp = temp+x\n",
    "    x +=1\n",
    "    \n",
    "print(temp)    "
   ]
  },
  {
   "cell_type": "code",
   "execution_count": 11,
   "metadata": {},
   "outputs": [
    {
     "name": "stdout",
     "output_type": "stream",
     "text": [
      "5 i\n",
      "Original string is JhonDipPeta\n",
      "Middle values are : Dip\n",
      "3 o\n",
      "Original string is Jasonay\n",
      "Middle values are : son\n"
     ]
    }
   ],
   "source": [
    "def getMiddleThreeChars(stringg):\n",
    "    \n",
    "    middleIndex = int(len(stringg) /2)\n",
    "    mid_letter = stringg[middleIndex]\n",
    "    \n",
    "    print(middleIndex,mid_letter)\n",
    "    print('Original string is {}'.format(stringg))\n",
    "   \n",
    "    middleThree = stringg[middleIndex-1 : middleIndex+2]\n",
    "    print('Middle values are : {}'.format(middleThree))\n",
    "    \n",
    "getMiddleThreeChars(\"JhonDipPeta\")\n",
    "getMiddleThreeChars(\"Jasonay\") "
   ]
  },
  {
   "cell_type": "code",
   "execution_count": 42,
   "metadata": {},
   "outputs": [
    {
     "name": "stdout",
     "output_type": "stream",
     "text": [
      "Original strings are: \"Chrisdem\" and \"IamNewString\"\n",
      "New string after appending 'ChrIamNewStringisdem'\n"
     ]
    }
   ],
   "source": [
    "def appendMiddle(s1,s2):\n",
    "    mid = int(len(s1)/2) -1\n",
    "#     print(s1[mid])\n",
    "    print('Original strings are: \"{}\" and \"{}\"'.format(s1,s2))\n",
    "    ad = s1[:mid]\n",
    "    ad2 = s1[mid:]\n",
    "#     print(ad)\n",
    "    new = ad + s2\n",
    "    new = new + ad2\n",
    "    print(\"New string after appending '{}'\".format(new))\n",
    "appendMiddle(\"Chrisdem\", 'IamNewString') #→ \"ChrIamNewStringisdem\"()9\n",
    "\n",
    "\n",
    "#  middleThree = s1[:middleIndex-1:]+ s2 +s1[middleIndex-1:]"
   ]
  },
  {
   "cell_type": "code",
   "execution_count": 46,
   "metadata": {},
   "outputs": [
    {
     "name": "stdout",
     "output_type": "stream",
     "text": [
      "AJrpan\n"
     ]
    }
   ],
   "source": [
    "def mixString(s1, s2):\n",
    "    \n",
    "#     mid_s1 = int(len(s1)/2)\n",
    "#     mid_s2 = int(len(s2)/2)\n",
    "    \n",
    "    first = s1[:1] + s2[:1] + s1[int(len(s1)/2)] + s2[int(len(s2)/2)] + s1[-1:] + s2[-1:] \n",
    "    \n",
    "    print(first)\n",
    "\n",
    "mixString(\"America\", \"Japan\")# = \"\"AJrpan\""
   ]
  },
  {
   "cell_type": "code",
   "execution_count": 9,
   "metadata": {},
   "outputs": [
    {
     "name": "stdout",
     "output_type": "stream",
     "text": [
      "malKO\n"
     ]
    }
   ],
   "source": [
    "def lower1(stringg):\n",
    "    lower = []\n",
    "    upper = []\n",
    "    for i in stringg:\n",
    "        if i.islower():\n",
    "            lower.append(i)\n",
    "        else:\n",
    "            upper.append(i)\n",
    "    print(''.join(lower+upper))        \n",
    "lower1('KOmal')    "
   ]
  },
  {
   "cell_type": "code",
   "execution_count": 64,
   "metadata": {},
   "outputs": [
    {
     "name": "stdout",
     "output_type": "stream",
     "text": [
      "['k', 'o', 'm', 'a', 'l']\n"
     ]
    }
   ],
   "source": [
    "x = 'komal'\n",
    "print(list(x))"
   ]
  },
  {
   "cell_type": "code",
   "execution_count": 81,
   "metadata": {},
   "outputs": [
    {
     "name": "stdout",
     "output_type": "stream",
     "text": [
      "upper : 2 lower : 6 digits : 3 spl.symbols : 4\n"
     ]
    }
   ],
   "source": [
    "input_str = \"k@#yn26At^&i5Ve\"\n",
    "count1 = 0\n",
    "count2 = 0\n",
    "count3 = 0\n",
    "count4 = 0\n",
    "for i in input_str:\n",
    "    if i.isupper():\n",
    "        count1 +=1\n",
    "    elif i.islower():\n",
    "        count2 +=1\n",
    "    elif i.isnumeric():\n",
    "        count3 += 1\n",
    "    else:\n",
    "        count4 +=1\n",
    "        \n",
    "        \n",
    "print('upper : {} lower : {} digits : {} spl.symbols : {}'.format(count1, count2, count3, count4))        \n"
   ]
  },
  {
   "cell_type": "code",
   "execution_count": 34,
   "metadata": {},
   "outputs": [
    {
     "name": "stdout",
     "output_type": "stream",
     "text": [
      "kiolmaavllastav\n"
     ]
    }
   ],
   "source": [
    "def mixedString(s1, s2):\n",
    "    result = \"\"\n",
    "    \n",
    "    s2 = s2[::-1]\n",
    "#     print(s2)\n",
    "#     s1 = list(s1)\n",
    "#     s2 = list(s2)\n",
    "#     result = list(zip(s1,s2))\n",
    "#     result = str(result)\n",
    "#     print(''.join(result))\n",
    "    \n",
    "    for i in range(10):\n",
    "        if (len(s1)>i):\n",
    "            result = result + s1[i]\n",
    "#             print(result)\n",
    "        if(len(s2)>i):\n",
    "            result = result + s2[i]\n",
    "#             print(result)\n",
    "    print(result)\n",
    "    \n",
    "    \n",
    "    \n",
    "mixedString('komal', 'vatsalvali')    "
   ]
  },
  {
   "cell_type": "code",
   "execution_count": 18,
   "metadata": {},
   "outputs": [
    {
     "name": "stdout",
     "output_type": "stream",
     "text": [
      "eeeetisbeW\n"
     ]
    }
   ],
   "source": [
    "def mixString(s1, s2):\n",
    "    \n",
    "    s2 = s2[::-1]\n",
    "    lengthS1 = len(s1)\n",
    "    lengthS2 = len(s2)\n",
    "    length  = lengthS1 if lengthS1 > lengthS2 else lengthS2 \n",
    "    resultString=\"\"\n",
    "    for i in range(length):\n",
    "#         if(i < lengthS1):\n",
    "#               resultString = resultString + s1[i]\n",
    "#               print(resultString)  \n",
    "        if(i < lengthS2):\n",
    "              resultString = resultString + s2[i]\n",
    "    \n",
    "    print(resultString)\n",
    "  \n",
    "s1 = \"Pynative\"\n",
    "s2 = \"Websiteeee\"\n",
    "mixString(s1, s2)"
   ]
  },
  {
   "cell_type": "code",
   "execution_count": 37,
   "metadata": {},
   "outputs": [],
   "source": [
    "def strBalance(s1, s2):\n",
    "    if s1 in s2:\n",
    "        return True\n",
    "strBalance('mo', 'komal')    "
   ]
  },
  {
   "cell_type": "code",
   "execution_count": 46,
   "metadata": {},
   "outputs": [
    {
     "name": "stdout",
     "output_type": "stream",
     "text": [
      "s1 and s2 are balanced False\n"
     ]
    }
   ],
   "source": [
    "def stringBalanceCheck(s1, s2):\n",
    "    for char in s1:\n",
    "        if char in s2:\n",
    "            flag = True\n",
    "\n",
    "        else:\n",
    "              flag =  False\n",
    "    return flag\n",
    "  \n",
    "s1 = \"tez\"\n",
    "s2 = \"Pynative\"\n",
    "flag = stringBalanceCheck(s1, s2)\n",
    "print(\"s1 and s2 are balanced\", flag)\n"
   ]
  },
  {
   "cell_type": "code",
   "execution_count": 53,
   "metadata": {},
   "outputs": [
    {
     "name": "stdout",
     "output_type": "stream",
     "text": [
      "The no.of USA occurance is 3\n"
     ]
    }
   ],
   "source": [
    "def occ(stringg):\n",
    "    temp_str = stringg.lower()\n",
    "#     print(temp_str)\n",
    "    count1 = temp_str.count('usa')\n",
    "    return count1\n",
    "count1 = occ('USA is awesome, usa is love, USa is fun')\n",
    "print('The no.of USA occurance is {}'.format(count1))"
   ]
  },
  {
   "cell_type": "code",
   "execution_count": 56,
   "metadata": {},
   "outputs": [
    {
     "name": "stdout",
     "output_type": "stream",
     "text": [
      "7\n"
     ]
    },
    {
     "ename": "TypeError",
     "evalue": "unsupported operand type(s) for +: 'int' and 'str'",
     "output_type": "error",
     "traceback": [
      "\u001b[1;31m---------------------------------------------------------------------------\u001b[0m",
      "\u001b[1;31mTypeError\u001b[0m                                 Traceback (most recent call last)",
      "\u001b[1;32m<ipython-input-56-504719e4757b>\u001b[0m in \u001b[0;36m<module>\u001b[1;34m\u001b[0m\n\u001b[0;32m      8\u001b[0m             \u001b[0maverage1\u001b[0m \u001b[1;33m=\u001b[0m \u001b[0maverage1\u001b[0m \u001b[1;33m+\u001b[0m \u001b[0mi\u001b[0m\u001b[1;33m\u001b[0m\u001b[1;33m\u001b[0m\u001b[0m\n\u001b[0;32m      9\u001b[0m     \u001b[1;32mreturn\u001b[0m \u001b[0msum1\u001b[0m\u001b[1;33m,\u001b[0m \u001b[0maverage1\u001b[0m\u001b[1;33m\u001b[0m\u001b[1;33m\u001b[0m\u001b[0m\n\u001b[1;32m---> 10\u001b[1;33m \u001b[0msum1\u001b[0m\u001b[1;33m,\u001b[0m \u001b[0maverage1\u001b[0m \u001b[1;33m=\u001b[0m \u001b[0msumAndAverage\u001b[0m\u001b[1;33m(\u001b[0m\u001b[1;34m\"English = 78 Science = 83 Math = 68 History = 65\"\u001b[0m\u001b[1;33m)\u001b[0m \u001b[1;31m#= sum 294 Percentage is 73.5\u001b[0m\u001b[1;33m\u001b[0m\u001b[1;33m\u001b[0m\u001b[0m\n\u001b[0m\u001b[0;32m     11\u001b[0m \u001b[0mprint\u001b[0m\u001b[1;33m(\u001b[0m\u001b[1;34m'SUM : {} , AVERAGE : {}'\u001b[0m\u001b[1;33m.\u001b[0m\u001b[0mformat\u001b[0m\u001b[1;33m(\u001b[0m\u001b[0msum1\u001b[0m\u001b[1;33m,\u001b[0m \u001b[0maverage1\u001b[0m\u001b[1;33m)\u001b[0m\u001b[1;33m)\u001b[0m\u001b[1;33m\u001b[0m\u001b[1;33m\u001b[0m\u001b[0m\n",
      "\u001b[1;32m<ipython-input-56-504719e4757b>\u001b[0m in \u001b[0;36msumAndAverage\u001b[1;34m(stringg)\u001b[0m\n\u001b[0;32m      5\u001b[0m         \u001b[1;32mif\u001b[0m \u001b[0mi\u001b[0m\u001b[1;33m.\u001b[0m\u001b[0misnumeric\u001b[0m\u001b[1;33m(\u001b[0m\u001b[1;33m)\u001b[0m\u001b[1;33m:\u001b[0m\u001b[1;33m\u001b[0m\u001b[1;33m\u001b[0m\u001b[0m\n\u001b[0;32m      6\u001b[0m             \u001b[0mprint\u001b[0m\u001b[1;33m(\u001b[0m\u001b[0mi\u001b[0m\u001b[1;33m)\u001b[0m\u001b[1;33m\u001b[0m\u001b[1;33m\u001b[0m\u001b[0m\n\u001b[1;32m----> 7\u001b[1;33m             \u001b[0msum1\u001b[0m \u001b[1;33m=\u001b[0m \u001b[0msum1\u001b[0m \u001b[1;33m+\u001b[0m \u001b[0mi\u001b[0m\u001b[1;33m\u001b[0m\u001b[1;33m\u001b[0m\u001b[0m\n\u001b[0m\u001b[0;32m      8\u001b[0m             \u001b[0maverage1\u001b[0m \u001b[1;33m=\u001b[0m \u001b[0maverage1\u001b[0m \u001b[1;33m+\u001b[0m \u001b[0mi\u001b[0m\u001b[1;33m\u001b[0m\u001b[1;33m\u001b[0m\u001b[0m\n\u001b[0;32m      9\u001b[0m     \u001b[1;32mreturn\u001b[0m \u001b[0msum1\u001b[0m\u001b[1;33m,\u001b[0m \u001b[0maverage1\u001b[0m\u001b[1;33m\u001b[0m\u001b[1;33m\u001b[0m\u001b[0m\n",
      "\u001b[1;31mTypeError\u001b[0m: unsupported operand type(s) for +: 'int' and 'str'"
     ]
    }
   ],
   "source": [
    "def sumAndAverage(stringg):\n",
    "    sum1 = 0\n",
    "    aveRAGE = 0\n",
    "    for i in stringg:\n",
    "        if i.isnumeric():\n",
    "            print(i)\n",
    "            sum1 = sum1 + i\n",
    "            average1 = average1 + i\n",
    "    return sum1, average1\n",
    "sum1, average1 = sumAndAverage(\"English = 78 Science = 83 Math = 68 History = 65\") #= sum 294 Percentage is 73.5\n",
    "print('SUM : {} , AVERAGE : {}'.format(sum1, average1))"
   ]
  },
  {
   "cell_type": "code",
   "execution_count": 60,
   "metadata": {},
   "outputs": [
    {
     "name": "stdout",
     "output_type": "stream",
     "text": [
      "{'j': 2, 'a': 8, 'i': 5, ' ': 7, 'm': 2, 'h': 3, 'k': 3, 'l': 2, 'o': 1}\n"
     ]
    }
   ],
   "source": [
    "strr = 'jai maha kali mahakali ki jai ho'\n",
    "count_dict = dict()\n",
    "for char in strr:\n",
    "    count = strr.count(char)\n",
    "#     print(count)\n",
    "    \n",
    "    count_dict[char] = count\n",
    "print(count_dict)    "
   ]
  },
  {
   "cell_type": "code",
   "execution_count": 14,
   "metadata": {},
   "outputs": [
    {
     "data": {
      "text/plain": [
       "array([[15783, 18142],\n",
       "       [37735, 22409],\n",
       "       [61599, 58017],\n",
       "       [54015, 52138]], dtype=uint16)"
      ]
     },
     "metadata": {},
     "output_type": "display_data"
    },
    {
     "data": {
      "text/plain": [
       "(4, 2)"
      ]
     },
     "metadata": {},
     "output_type": "display_data"
    },
    {
     "data": {
      "text/plain": [
       "2"
      ]
     },
     "metadata": {},
     "output_type": "display_data"
    },
    {
     "data": {
      "text/plain": [
       "8"
      ]
     },
     "metadata": {},
     "output_type": "display_data"
    }
   ],
   "source": [
    "import numpy as np\n",
    "first_array = np.empty([4,2], dtype = np.uint16)    #uint16, uint32\n",
    "shape1 = np.shape(first_array)\n",
    "dim1 = np.ndim(first_array)\n",
    "size1 = np.size(first_array)\n",
    "display(first_array, shape1, dim1, size1)"
   ]
  },
  {
   "cell_type": "code",
   "execution_count": 17,
   "metadata": {},
   "outputs": [
    {
     "data": {
      "text/plain": [
       "array([[100, 110],\n",
       "       [120, 130],\n",
       "       [140, 150],\n",
       "       [160, 170],\n",
       "       [180, 190]])"
      ]
     },
     "execution_count": 17,
     "metadata": {},
     "output_type": "execute_result"
    }
   ],
   "source": [
    "np.arange(100, 200, 10).reshape(5,2)"
   ]
  },
  {
   "cell_type": "code",
   "execution_count": 26,
   "metadata": {},
   "outputs": [
    {
     "data": {
      "text/plain": [
       "array([22, 55, 88])"
      ]
     },
     "execution_count": 26,
     "metadata": {},
     "output_type": "execute_result"
    }
   ],
   "source": [
    "sampleArray = np.array([[11 ,22, 33], [44, 55, 66], [77, 88, 99]])\n",
    "sampleArray\n",
    "# np.ndim(sampleArray)\n",
    "sampleArray[[0,1,2],[1,1,1]]\n"
   ]
  },
  {
   "cell_type": "code",
   "execution_count": 38,
   "metadata": {},
   "outputs": [
    {
     "name": "stdout",
     "output_type": "stream",
     "text": [
      "[[ 3  6  9 12]\n",
      " [15 18 21 24]\n",
      " [27 30 33 36]\n",
      " [39 42 45 48]\n",
      " [51 54 57 60]]\n"
     ]
    },
    {
     "data": {
      "text/plain": [
       "array([[ 6, 12],\n",
       "       [30, 36],\n",
       "       [54, 60]])"
      ]
     },
     "execution_count": 38,
     "metadata": {},
     "output_type": "execute_result"
    }
   ],
   "source": [
    "sampleArray = np.array([[3 ,6, 9, 12], [15 ,18, 21, 24], \n",
    "[27 ,30, 33, 36], [39 ,42, 45, 48], [51 ,54, 57, 60]])\n",
    "print(sampleArray)\n",
    "sampleArray[::2, 1::2]\n"
   ]
  },
  {
   "cell_type": "code",
   "execution_count": 39,
   "metadata": {},
   "outputs": [
    {
     "data": {
      "text/plain": [
       "array([[ 400, 1521, 1089],\n",
       "       [ 625,  625,  784]], dtype=int32)"
      ]
     },
     "execution_count": 39,
     "metadata": {},
     "output_type": "execute_result"
    }
   ],
   "source": [
    "arrayOne = np.array([[5, 6, 9], [21 ,18, 27]])\n",
    "arrayTwo = np.array([[15 ,33, 24], [4 ,7, 1]])\n",
    "sum1 = (arrayOne + arrayTwo)**2\n",
    "sum1"
   ]
  },
  {
   "cell_type": "code",
   "execution_count": 42,
   "metadata": {},
   "outputs": [
    {
     "data": {
      "text/plain": [
       "array([[10, 11, 12],\n",
       "       [13, 14, 15],\n",
       "       [16, 17, 18],\n",
       "       [19, 20, 21],\n",
       "       [22, 23, 24],\n",
       "       [25, 26, 27],\n",
       "       [28, 29, 30],\n",
       "       [31, 32, 33]])"
      ]
     },
     "metadata": {},
     "output_type": "display_data"
    },
    {
     "data": {
      "text/plain": [
       "[array([[10, 11, 12],\n",
       "        [13, 14, 15]]),\n",
       " array([[16, 17, 18],\n",
       "        [19, 20, 21]]),\n",
       " array([[22, 23, 24],\n",
       "        [25, 26, 27]]),\n",
       " array([[28, 29, 30],\n",
       "        [31, 32, 33]])]"
      ]
     },
     "metadata": {},
     "output_type": "display_data"
    }
   ],
   "source": [
    "array1 = np.arange(10,34).reshape(8,3)\n",
    "subArray  = np.split(array1, 4)\n",
    "display(array1, subArray)"
   ]
  },
  {
   "cell_type": "code",
   "execution_count": 48,
   "metadata": {},
   "outputs": [
    {
     "data": {
      "text/plain": [
       "array([[34, 43, 73],\n",
       "       [82, 22, 12],\n",
       "       [53, 94, 66]])"
      ]
     },
     "metadata": {},
     "output_type": "display_data"
    },
    {
     "data": {
      "text/plain": [
       "array([[73, 43, 34],\n",
       "       [12, 22, 82],\n",
       "       [66, 94, 53]])"
      ]
     },
     "metadata": {},
     "output_type": "display_data"
    }
   ],
   "source": [
    "sampleArray = np.array([[34,43,73],[82,22,12],[53,94,66]])\n",
    "np.sort(sampleArray)[2]\n",
    "sortArrayByRow = sampleArray[:,sampleArray[1,:].argsort()]\n",
    "display(sampleArray, sortArrayByRow )"
   ]
  },
  {
   "cell_type": "code",
   "execution_count": 2,
   "metadata": {},
   "outputs": [
    {
     "data": {
      "text/plain": [
       "[500, 400, 300, 200, 100]"
      ]
     },
     "execution_count": 2,
     "metadata": {},
     "output_type": "execute_result"
    }
   ],
   "source": [
    "alist = [100,200,300,400,500]\n",
    "alist[::-1]"
   ]
  },
  {
   "cell_type": "code",
   "execution_count": 4,
   "metadata": {},
   "outputs": [
    {
     "data": {
      "text/plain": [
       "['My', 'name', 'is', 'Kelly']"
      ]
     },
     "execution_count": 4,
     "metadata": {},
     "output_type": "execute_result"
    }
   ],
   "source": [
    "list1 = [\"M\", \"na\", \"i\", \"Ke\"] \n",
    "list2 = [\"y\", \"me\", \"s\", \"lly\"]\n",
    "[(i+j) for i,j in zip(list1,list2)]\n",
    "# list(zip(list1,list2))"
   ]
  },
  {
   "cell_type": "code",
   "execution_count": 8,
   "metadata": {},
   "outputs": [
    {
     "data": {
      "text/plain": [
       "[1, 4, 9, 16, 25, 36, 49]"
      ]
     },
     "execution_count": 8,
     "metadata": {},
     "output_type": "execute_result"
    }
   ],
   "source": [
    "aList = [1, 2, 3, 4, 5, 6, 7]\n",
    "[i**2 for i in aList]"
   ]
  },
  {
   "cell_type": "code",
   "execution_count": 9,
   "metadata": {},
   "outputs": [
    {
     "data": {
      "text/plain": [
       "[('Hello ', 'Dear'), ('take ', 'Sir')]"
      ]
     },
     "execution_count": 9,
     "metadata": {},
     "output_type": "execute_result"
    }
   ],
   "source": [
    "list1 = [\"Hello \", \"take \"]\n",
    "list2 = [\"Dear\", \"Sir\"]\n",
    "list(zip(list1,list2))"
   ]
  },
  {
   "cell_type": "code",
   "execution_count": 21,
   "metadata": {},
   "outputs": [
    {
     "name": "stdout",
     "output_type": "stream",
     "text": [
      "10 400\n",
      "20 300\n",
      "30 200\n",
      "40 100\n"
     ]
    }
   ],
   "source": [
    "list1 = [10, 20, 30, 40]\n",
    "list2 = [100, 200, 300, 400]\n",
    "list2 = list2[::-1]\n",
    "for i,j in zip(list1,list2):\n",
    "    print(i,j) "
   ]
  },
  {
   "cell_type": "code",
   "execution_count": 28,
   "metadata": {},
   "outputs": [
    {
     "name": "stdout",
     "output_type": "stream",
     "text": [
      "['Mike', 'Emma', 'Kelly', 'Brad']\n"
     ]
    }
   ],
   "source": [
    "list1 = [\"Mike\", \"\", \"Emma\", \"Kelly\", \"\", \"Brad\"]\n",
    "# [ i for i in list1 if i != '']\n",
    "\n",
    "res = list(filter(None, list1))\n",
    "print(res)"
   ]
  },
  {
   "cell_type": "code",
   "execution_count": 38,
   "metadata": {},
   "outputs": [
    {
     "name": "stdout",
     "output_type": "stream",
     "text": [
      "[10, 20, [300, 400, [5000, 6000, 7000], 500], 30, 40]\n"
     ]
    }
   ],
   "source": [
    "list1 = [10, 20, [300, 400, [5000, 6000], 500], 30, 40]\n",
    "list1[2][2].append(7000)\n",
    "print(list1)"
   ]
  },
  {
   "cell_type": "code",
   "execution_count": 58,
   "metadata": {},
   "outputs": [
    {
     "name": "stdout",
     "output_type": "stream",
     "text": [
      "['a', 'b', ['c', ['d', 'e', ['f', 'g', 'h', 'i', 'j'], 'k'], 'l'], 'm', 'n']\n"
     ]
    }
   ],
   "source": [
    "list1 = [\"a\", \"b\", [\"c\", [\"d\", \"e\", [\"f\", \"g\"], \"k\"], \"l\"], \"m\", \"n\"]\n",
    "sub =['h','i','j']\n",
    "list1[2][1][2].extend(sub)\n",
    "print(list1)"
   ]
  },
  {
   "cell_type": "code",
   "execution_count": 84,
   "metadata": {},
   "outputs": [
    {
     "data": {
      "text/plain": [
       "[5, 10, 15, 200, 25, 50, 20]"
      ]
     },
     "execution_count": 84,
     "metadata": {},
     "output_type": "execute_result"
    }
   ],
   "source": [
    "list1 = [5, 10, 15, 20, 25, 50, 20]\n",
    "x = list1.index(20)\n",
    "list1[x] = 200;list1"
   ]
  },
  {
   "cell_type": "code",
   "execution_count": 93,
   "metadata": {},
   "outputs": [
    {
     "name": "stdout",
     "output_type": "stream",
     "text": [
      "[5, 15, 25, 50]\n"
     ]
    }
   ],
   "source": [
    "list1 = [5, 20, 15, 20, 25, 50, 20]\n",
    "result = list(filter(lambda x: x!=20, list1))\n",
    "print(result)\n"
   ]
  },
  {
   "cell_type": "code",
   "execution_count": 98,
   "metadata": {},
   "outputs": [
    {
     "name": "stdout",
     "output_type": "stream",
     "text": [
      "{'Ten': 10, 'Twenty': 20, 'Thirty': 30, 'Fourty': 40, 'Fifty': 50}\n"
     ]
    }
   ],
   "source": [
    "dict1 = {'Ten': 10, 'Twenty': 20, 'Thirty': 30}\n",
    "dict2 = {'Thirty': 30, 'Fourty': 40, 'Fifty': 50}\n",
    "\n",
    "dict3 = {**dict1, **dict2}\n",
    "print(dict3)\n",
    "\n",
    "# dict3 = dict1.copy()\n",
    "# dict3.update(dict2)\n",
    "# print(dict3)"
   ]
  },
  {
   "cell_type": "code",
   "execution_count": 101,
   "metadata": {},
   "outputs": [
    {
     "name": "stdout",
     "output_type": "stream",
     "text": [
      "{'Ten': 10, 'Twenty': 20, 'Thirty': 30}\n"
     ]
    }
   ],
   "source": [
    "keys = ['Ten', 'Twenty', 'Thirty']\n",
    "values = [10, 20, 30]\n",
    "dict1 = dict(zip(keys,values))\n",
    "print(dict1)"
   ]
  },
  {
   "cell_type": "code",
   "execution_count": 104,
   "metadata": {},
   "outputs": [
    {
     "data": {
      "text/plain": [
       "80"
      ]
     },
     "execution_count": 104,
     "metadata": {},
     "output_type": "execute_result"
    }
   ],
   "source": [
    "sampleDict = { \n",
    "   \"class\":{ \n",
    "      \"student\":{ \n",
    "         \"name\":\"Mike\",\n",
    "         \"marks\":{ \n",
    "            \"physics\":70,\n",
    "            \"history\":80\n",
    "         }\n",
    "      }\n",
    "   }\n",
    "}\n",
    "\n",
    "sampleDict['class']['student']['marks']['history']"
   ]
  },
  {
   "cell_type": "code",
   "execution_count": 4,
   "metadata": {},
   "outputs": [
    {
     "name": "stdout",
     "output_type": "stream",
     "text": [
      "{'John': {'designation': 'Application Developer', 'salary': 8000}, 'Kelly': {'designation': 'Application Developer', 'salary': 8000}, 'Emma': {'designation': 'Application Developer', 'salary': 8000}}\n",
      "{'designation': 'Application Developer', 'salary': 8000}\n"
     ]
    }
   ],
   "source": [
    "employees = {'Kelly', 'Emma', 'John'}\n",
    "defaults = {\"designation\": 'Application Developer', \"salary\": 8000}\n",
    "\n",
    "resDict = dict.fromkeys(employees, defaults)\n",
    "print(resDict)\n",
    "\n",
    "# Individual data\n",
    "print(resDict[\"Kelly\"])"
   ]
  },
  {
   "cell_type": "code",
   "execution_count": 9,
   "metadata": {},
   "outputs": [
    {
     "data": {
      "text/plain": [
       "{'name': 'Kelly', 'salary': 8000}"
      ]
     },
     "execution_count": 9,
     "metadata": {},
     "output_type": "execute_result"
    }
   ],
   "source": [
    "sampleDict = {\n",
    "  \"name\": \"Kelly\",\n",
    "  \"age\":25,\n",
    "  \"salary\": 8000,\n",
    "  \"city\": \"New york\" \n",
    "  \n",
    "}\n",
    "\n",
    "keys = [\"name\", \"salary\"]\n",
    "{k: sampleDict[k] for k in keys}"
   ]
  },
  {
   "cell_type": "code",
   "execution_count": 12,
   "metadata": {},
   "outputs": [
    {
     "data": {
      "text/plain": [
       "{'age': 25, 'city': 'New york'}"
      ]
     },
     "execution_count": 12,
     "metadata": {},
     "output_type": "execute_result"
    }
   ],
   "source": [
    "sampleDict = {\n",
    "  \"name\": \"Kelly\",\n",
    "  \"age\":25,\n",
    "  \"salary\": 8000,\n",
    "  \"city\": \"New york\"\n",
    "  \n",
    "}\n",
    "keysToRemove = [\"name\", \"salary\"]\n",
    "{k : sampleDict[k] for k in sampleDict.keys() - keysToRemove}"
   ]
  },
  {
   "cell_type": "code",
   "execution_count": 18,
   "metadata": {},
   "outputs": [
    {
     "data": {
      "text/plain": [
       "True"
      ]
     },
     "execution_count": 18,
     "metadata": {},
     "output_type": "execute_result"
    }
   ],
   "source": [
    "sampleDict = {'a': 100, 'b': 200, 'c': 300}\n",
    "200 in sampleDict.values()"
   ]
  },
  {
   "cell_type": "code",
   "execution_count": 22,
   "metadata": {},
   "outputs": [
    {
     "data": {
      "text/plain": [
       "{'name': 'Kelly', 'age': 25, 'salary': 8000, 'location': 'Downtown'}"
      ]
     },
     "execution_count": 22,
     "metadata": {},
     "output_type": "execute_result"
    }
   ],
   "source": [
    "sampleDict = {\n",
    "  \"name\": \"Kelly\",\n",
    "  \"age\":25,\n",
    "  \"salary\": 8000,\n",
    "  \"city\": \"New york\"\n",
    "  \n",
    "}\n",
    "sampleDict['location'] = sampleDict.pop('city')\n",
    "sampleDict\n",
    "sampleDict['location'] = 'Downtown'; sampleDict"
   ]
  },
  {
   "cell_type": "code",
   "execution_count": 24,
   "metadata": {},
   "outputs": [
    {
     "data": {
      "text/plain": [
       "('Math', 65)"
      ]
     },
     "execution_count": 24,
     "metadata": {},
     "output_type": "execute_result"
    }
   ],
   "source": [
    "sampleDict = {\n",
    "  'Physics': 82,\n",
    "  'Math': 65,\n",
    "  'history': 75\n",
    "}\n",
    "min(sampleDict.items())"
   ]
  },
  {
   "cell_type": "code",
   "execution_count": 6,
   "metadata": {},
   "outputs": [
    {
     "ename": "KeyError",
     "evalue": "'naam'",
     "output_type": "error",
     "traceback": [
      "\u001b[1;31m---------------------------------------------------------------------------\u001b[0m",
      "\u001b[1;31mKeyError\u001b[0m                                  Traceback (most recent call last)",
      "\u001b[1;32m<ipython-input-6-9102c0aa59e1>\u001b[0m in \u001b[0;36m<module>\u001b[1;34m\u001b[0m\n\u001b[0;32m      7\u001b[0m \u001b[0msampleDict\u001b[0m\u001b[1;33m[\u001b[0m\u001b[1;34m'emp3'\u001b[0m\u001b[1;33m]\u001b[0m\u001b[1;33m[\u001b[0m\u001b[1;34m'salary'\u001b[0m\u001b[1;33m]\u001b[0m  \u001b[1;33m=\u001b[0m \u001b[1;36m8500\u001b[0m \u001b[1;33m;\u001b[0m \u001b[0msampleDict\u001b[0m\u001b[1;33m\u001b[0m\u001b[1;33m\u001b[0m\u001b[0m\n\u001b[0;32m      8\u001b[0m \u001b[1;31m# sampleDict['emp3']['naaam'] = sampleDict.pop('name');sampleDict\u001b[0m\u001b[1;33m\u001b[0m\u001b[1;33m\u001b[0m\u001b[1;33m\u001b[0m\u001b[0m\n\u001b[1;32m----> 9\u001b[1;33m \u001b[0msampleDict\u001b[0m\u001b[1;33m[\u001b[0m\u001b[1;34m'emp3'\u001b[0m\u001b[1;33m]\u001b[0m\u001b[1;33m[\u001b[0m\u001b[1;34m'name'\u001b[0m\u001b[1;33m]\u001b[0m \u001b[1;33m=\u001b[0m \u001b[0msampleDict\u001b[0m\u001b[1;33m[\u001b[0m\u001b[1;34m'emp3'\u001b[0m\u001b[1;33m]\u001b[0m\u001b[1;33m[\u001b[0m\u001b[1;34m'naam'\u001b[0m\u001b[1;33m]\u001b[0m\u001b[1;33m\u001b[0m\u001b[1;33m\u001b[0m\u001b[0m\n\u001b[0m",
      "\u001b[1;31mKeyError\u001b[0m: 'naam'"
     ]
    }
   ],
   "source": [
    "sampleDict = {\n",
    "     'emp1': {'name': 'Jhon', 'salary': 7500},\n",
    "     'emp2': {'name': 'Emma', 'salary': 8000},\n",
    "     'emp3': {'name': 'Brad', 'salary': 6500}\n",
    "}\n",
    "\n",
    "sampleDict['emp3']['salary']  = 8500 ; sampleDict\n",
    "# sampleDict['emp3']['naaam'] = sampleDict.pop('name');sampleDict\n",
    "sampleDict['emp3']['name'] = sampleDict['emp3']['naam']"
   ]
  },
  {
   "cell_type": "code",
   "execution_count": 38,
   "metadata": {},
   "outputs": [
    {
     "data": {
      "text/plain": [
       "{'Black', 'Blue', 'Green', 'Orange', 'Red', 'Yellow'}"
      ]
     },
     "execution_count": 38,
     "metadata": {},
     "output_type": "execute_result"
    }
   ],
   "source": [
    "sampleSet = {\"Yellow\", \"Orange\", \"Black\"}\n",
    "sampleList = [\"Blue\", \"Green\", \"Red\"]\n",
    "# sampleList = set(sampleList)\n",
    "sampleSet.update(sampleList)\n",
    "sampleSet"
   ]
  },
  {
   "cell_type": "code",
   "execution_count": 45,
   "metadata": {},
   "outputs": [
    {
     "data": {
      "text/plain": [
       "{30, 40, 50}"
      ]
     },
     "execution_count": 45,
     "metadata": {},
     "output_type": "execute_result"
    }
   ],
   "source": [
    "set1 = {10, 20, 30, 40, 50}\n",
    "set2 = {30, 40, 50, 60, 70}\n",
    "set1.intersection(set2)"
   ]
  },
  {
   "cell_type": "code",
   "execution_count": 47,
   "metadata": {},
   "outputs": [
    {
     "data": {
      "text/plain": [
       "{10, 20, 30, 40, 50, 60, 70}"
      ]
     },
     "execution_count": 47,
     "metadata": {},
     "output_type": "execute_result"
    }
   ],
   "source": [
    "set1 = {10, 20, 30, 40, 50}\n",
    "set2 = {30, 40, 50, 60, 70}\n",
    "set1.union(set2)"
   ]
  },
  {
   "cell_type": "code",
   "execution_count": 50,
   "metadata": {},
   "outputs": [
    {
     "data": {
      "text/plain": [
       "{10, 30}"
      ]
     },
     "execution_count": 50,
     "metadata": {},
     "output_type": "execute_result"
    }
   ],
   "source": [
    "set1 = {10, 20, 30}\n",
    "set2 = {20, 40, 50}\n",
    "set1 - set2"
   ]
  },
  {
   "cell_type": "code",
   "execution_count": 52,
   "metadata": {},
   "outputs": [
    {
     "data": {
      "text/plain": [
       "{40, 50}"
      ]
     },
     "execution_count": 52,
     "metadata": {},
     "output_type": "execute_result"
    }
   ],
   "source": [
    "set1 = {10, 20, 30, 40, 50}\n",
    "set1.difference({10,20,30})\n"
   ]
  },
  {
   "cell_type": "code",
   "execution_count": 55,
   "metadata": {},
   "outputs": [
    {
     "data": {
      "text/plain": [
       "False"
      ]
     },
     "execution_count": 55,
     "metadata": {},
     "output_type": "execute_result"
    }
   ],
   "source": [
    "set1 = {10, 20, 30, 40, 50}\n",
    "set2 = {60, 70, 80, 90, 10}\n",
    "set1.isdisjoint(set2)"
   ]
  },
  {
   "cell_type": "code",
   "execution_count": 59,
   "metadata": {},
   "outputs": [
    {
     "data": {
      "text/plain": [
       "False"
      ]
     },
     "execution_count": 59,
     "metadata": {},
     "output_type": "execute_result"
    }
   ],
   "source": [
    "set1 = {10, 20, 30, 40, 50}\n",
    "set2 = {60, 70, 80, 90, 10}    \n",
    "set1.isdisjoint(set2)    "
   ]
  },
  {
   "cell_type": "code",
   "execution_count": 64,
   "metadata": {},
   "outputs": [
    {
     "data": {
      "text/plain": [
       "{10, 20, 30, 40, 50, 60, 70}"
      ]
     },
     "execution_count": 64,
     "metadata": {},
     "output_type": "execute_result"
    }
   ],
   "source": [
    "set1 = {10, 20, 30, 40, 50}\n",
    "set2 = {30, 40, 50, 60, 70}\n",
    "set2 = set2-set1\n",
    "set1.update(set2)\n",
    "set1"
   ]
  },
  {
   "cell_type": "code",
   "execution_count": 3,
   "metadata": {},
   "outputs": [
    {
     "name": "stdout",
     "output_type": "stream",
     "text": [
      "Enter the limit to check50\n",
      "[(3, 4, 5), (5, 12, 13), (6, 8, 10), (7, 24, 25), (8, 15, 17), (9, 12, 15), (9, 40, 41), (10, 24, 26), (12, 16, 20), (12, 35, 37), (15, 20, 25), (15, 36, 39), (16, 30, 34), (18, 24, 30), (20, 21, 29), (21, 28, 35), (24, 32, 40), (27, 36, 45)]\n"
     ]
    }
   ],
   "source": [
    "limit=int(input('Enter the limit to check'))\n",
    "pythogareoustriplets=[(x,y,z) for x in range(1,limit) for y in range(x,limit) for z in range(y,limit) if (x*x)+(y*y)==(z*z)]\n",
    "print(pythogareoustriplets)"
   ]
  },
  {
   "cell_type": "code",
   "execution_count": 12,
   "metadata": {},
   "outputs": [
    {
     "name": "stdout",
     "output_type": "stream",
     "text": [
      "3\n",
      "123\n"
     ]
    }
   ],
   "source": [
    "# The single star * unpacks the sequence/collection into positional arguments\n",
    "n = int(input())\n",
    "print(*range(1, n + 1), sep = '')"
   ]
  },
  {
   "cell_type": "code",
   "execution_count": 15,
   "metadata": {},
   "outputs": [
    {
     "name": "stdout",
     "output_type": "stream",
     "text": [
      "2\n",
      "komal 23 43 44.4 \n",
      "kiz 34 54 56.6\n",
      "komal\n",
      "36.80\n"
     ]
    }
   ],
   "source": [
    "if __name__ == '__main__':\n",
    "    n = int(input())\n",
    "    student_marks = {}\n",
    "\n",
    "    for _ in range(n):\n",
    "        name, *line = input().split()\n",
    "        scores = list(map(float, line))\n",
    "        student_marks[name] = scores\n",
    "    query_name = input()\n",
    "\n",
    "    if query_name in student_marks:\n",
    "        x = ((float(student_marks[query_name][0]) + \n",
    "           float(student_marks[query_name][1]) + \n",
    "           float(student_marks[query_name][2])) / 3)\n",
    "\n",
    "    print('%.2f' %x)\n",
    "\n"
   ]
  },
  {
   "cell_type": "code",
   "execution_count": null,
   "metadata": {},
   "outputs": [],
   "source": []
  },
  {
   "cell_type": "code",
   "execution_count": null,
   "metadata": {},
   "outputs": [],
   "source": []
  }
 ],
 "metadata": {
  "kernelspec": {
   "display_name": "Python 3",
   "language": "python",
   "name": "python3"
  },
  "language_info": {
   "codemirror_mode": {
    "name": "ipython",
    "version": 3
   },
   "file_extension": ".py",
   "mimetype": "text/x-python",
   "name": "python",
   "nbconvert_exporter": "python",
   "pygments_lexer": "ipython3",
   "version": "3.7.6"
  }
 },
 "nbformat": 4,
 "nbformat_minor": 4
}
